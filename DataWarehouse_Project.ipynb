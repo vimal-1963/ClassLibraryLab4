{
  "nbformat": 4,
  "nbformat_minor": 0,
  "metadata": {
    "colab": {
      "provenance": [],
      "authorship_tag": "ABX9TyP/Xvh9mEusXGGYIAnjFXhD",
      "include_colab_link": true
    },
    "kernelspec": {
      "name": "python3",
      "display_name": "Python 3"
    },
    "language_info": {
      "name": "python"
    }
  },
  "cells": [
    {
      "cell_type": "markdown",
      "metadata": {
        "id": "view-in-github",
        "colab_type": "text"
      },
      "source": [
        "<a href=\"https://colab.research.google.com/github/vimal-1963/ClassLibraryLab4/blob/main/DataWarehouse_Project.ipynb\" target=\"_parent\"><img src=\"https://colab.research.google.com/assets/colab-badge.svg\" alt=\"Open In Colab\"/></a>"
      ]
    },
    {
      "cell_type": "code",
      "execution_count": null,
      "metadata": {
        "id": "WK4jkWR_MrnX"
      },
      "outputs": [],
      "source": [
        "import pandas as pd\n",
        "import matplotlib.pyplot as plt\n",
        "import seaborn as sns\n",
        "import numpy as np\n",
        "pd.set_option('display.max_columns', None) # Show all columns"
      ]
    },
    {
      "cell_type": "markdown",
      "source": [
        "# **Loading the dataset**"
      ],
      "metadata": {
        "id": "bxu2UVAiM2yZ"
      }
    },
    {
      "cell_type": "code",
      "source": [
        "df = pd.read_csv(\"/content/Bicycle_Thefts.csv\");"
      ],
      "metadata": {
        "id": "FQnHGzNRMyM0"
      },
      "execution_count": null,
      "outputs": []
    },
    {
      "cell_type": "markdown",
      "source": [
        "# **STATASTICAL ASSESMENT**"
      ],
      "metadata": {
        "id": "dEuqlnvSNmRa"
      }
    },
    {
      "cell_type": "markdown",
      "source": [
        "View Sample data"
      ],
      "metadata": {
        "id": "kABIA5r6NuwY"
      }
    },
    {
      "cell_type": "code",
      "source": [
        "df.sample(5)"
      ],
      "metadata": {
        "id": "gYiEJuYSNsRM"
      },
      "execution_count": null,
      "outputs": []
    },
    {
      "cell_type": "markdown",
      "source": [
        "Shape of the data"
      ],
      "metadata": {
        "id": "GxAn3t_cN1g6"
      }
    },
    {
      "cell_type": "code",
      "source": [
        "df.shape"
      ],
      "metadata": {
        "id": "QDvPZyq1N5Ql"
      },
      "execution_count": null,
      "outputs": []
    },
    {
      "cell_type": "markdown",
      "source": [
        "Summary of non-null entries and data type"
      ],
      "metadata": {
        "id": "dI80DFJ1N4Or"
      }
    },
    {
      "cell_type": "code",
      "source": [
        "df.info()"
      ],
      "metadata": {
        "id": "zsCar_H5OBfr"
      },
      "execution_count": null,
      "outputs": []
    },
    {
      "cell_type": "code",
      "source": [
        "columns_with_null_values = df.columns[df.isnull().any()]\n",
        "for x in columns_with_null_values:\n",
        "    print(f\"columns with null values and their count are {x} and {df[x].isnull().sum()}\")"
      ],
      "metadata": {
        "id": "0g8SS6ZePm0P"
      },
      "execution_count": null,
      "outputs": []
    },
    {
      "cell_type": "markdown",
      "source": [
        "Data type counts"
      ],
      "metadata": {
        "id": "Ob_6QJDDOCaL"
      }
    },
    {
      "cell_type": "code",
      "source": [
        "df.dtypes.value_counts()"
      ],
      "metadata": {
        "id": "60GAME4jOJSL"
      },
      "execution_count": null,
      "outputs": []
    },
    {
      "cell_type": "markdown",
      "source": [
        "Correlation values between numeric columns"
      ],
      "metadata": {
        "id": "EdUZiERKOJoT"
      }
    },
    {
      "cell_type": "code",
      "source": [
        "df_numeric_columns = df.select_dtypes(exclude=['object'])\n",
        "df_numeric_columns.isnull().sum()\n",
        "df_numeric_columns.corr()"
      ],
      "metadata": {
        "id": "fUjsiu2CORB9"
      },
      "execution_count": null,
      "outputs": []
    },
    {
      "cell_type": "markdown",
      "source": [
        "# **Plotting a heat map for the correlation matrix for feature selection**"
      ],
      "metadata": {
        "id": "noGk58Z6S4CZ"
      }
    },
    {
      "cell_type": "code",
      "source": [
        "plt.figure(figsize=(10,8))\n",
        "sns.heatmap(df_numeric_columns, annot=True, cmap=\"coolwarm\", fmt=\".2f\", linewidths=.5)\n",
        "plt.show()"
      ],
      "metadata": {
        "id": "Q49J_Z2IS-0O"
      },
      "execution_count": null,
      "outputs": []
    }
  ]
}